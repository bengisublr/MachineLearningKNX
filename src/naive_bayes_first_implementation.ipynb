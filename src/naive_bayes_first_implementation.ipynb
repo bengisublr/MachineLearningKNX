{
 "cells": [
  {
   "cell_type": "markdown",
   "source": [
    "Reading Data"
   ],
   "metadata": {
    "collapsed": false
   }
  },
  {
   "cell_type": "code",
   "execution_count": 2,
   "outputs": [
    {
     "name": "stdout",
     "output_type": "stream",
     "text": [
      "Requirement already satisfied: pandas in /Users/bengisubulur/anaconda3/envs/pythonProject1/lib/python3.10/site-packages (2.0.2)\r\n",
      "Requirement already satisfied: python-dateutil>=2.8.2 in /Users/bengisubulur/anaconda3/envs/pythonProject1/lib/python3.10/site-packages (from pandas) (2.8.2)\r\n",
      "Requirement already satisfied: pytz>=2020.1 in /Users/bengisubulur/anaconda3/envs/pythonProject1/lib/python3.10/site-packages (from pandas) (2022.7)\r\n",
      "Requirement already satisfied: tzdata>=2022.1 in /Users/bengisubulur/anaconda3/envs/pythonProject1/lib/python3.10/site-packages (from pandas) (2023.3)\r\n",
      "Requirement already satisfied: numpy>=1.21.0 in /Users/bengisubulur/anaconda3/envs/pythonProject1/lib/python3.10/site-packages (from pandas) (1.24.3)\r\n",
      "Requirement already satisfied: six>=1.5 in /Users/bengisubulur/anaconda3/envs/pythonProject1/lib/python3.10/site-packages (from python-dateutil>=2.8.2->pandas) (1.16.0)\r\n",
      "     saat  haftanin gunu  haftaici / sonu  ay  mevsim                 Y\n",
      "0       8              1                0   1       4   1.2.3 isik True\n",
      "1      15              6                1   1       4   1.2.3 isik True\n",
      "2       9              7                1   1       4  1.2.3 isik False\n",
      "3      10              6                1   1       4  1.2.3 isik False\n",
      "4       9              7                1   1       4   1.2.3 isik True\n",
      "..    ...            ...              ...  ..     ...               ...\n",
      "595     2              6                1   1       4    2.2.4 klima +1\n",
      "596    15              5                0   1       4    2.2.4 klima +1\n",
      "597    16              7                1   1       4    2.2.4 klima +1\n",
      "598    10              4                0   1       4    2.2.4 klima +1\n",
      "599    22              6                1   1       4    2.2.4 klima +1\n",
      "\n",
      "[600 rows x 6 columns]\n"
     ]
    }
   ],
   "source": [
    "!pip install pandas\n",
    "import pandas as pd\n",
    "\n",
    "data = pd.read_csv(\"data_random.csv\")\n",
    "print(data)"
   ],
   "metadata": {
    "collapsed": false,
    "ExecuteTime": {
     "end_time": "2023-06-16T14:20:25.712636Z",
     "start_time": "2023-06-16T14:20:21.411490Z"
    }
   }
  },
  {
   "cell_type": "markdown",
   "source": [
    "Komutların Data'daki Yüzdeliği"
   ],
   "metadata": {
    "collapsed": false
   }
  },
  {
   "cell_type": "code",
   "execution_count": 3,
   "outputs": [
    {
     "name": "stdout",
     "output_type": "stream",
     "text": [
      "Y\n",
      "1.2.3 isik False    0.071667\n",
      "1.2.3 isik True     0.095000\n",
      "1.5.3 isik False    0.166667\n",
      "1.5.3 isik True     0.166667\n",
      "2.2.3 klima 24      0.083333\n",
      "2.2.3 klima 25      0.083333\n",
      "2.2.4 klima +1      0.166667\n",
      "2.2.4 klima -1      0.166667\n",
      "dtype: float64\n"
     ]
    }
   ],
   "source": [
    "prior = data.groupby('Y').size().div(len(data))\n",
    "print(prior)"
   ],
   "metadata": {
    "collapsed": false,
    "ExecuteTime": {
     "end_time": "2023-06-16T14:20:25.774334Z",
     "start_time": "2023-06-16T14:20:25.721828Z"
    }
   }
  },
  {
   "cell_type": "markdown",
   "source": [
    "Her Parametre'ye Göre Ayrı Ayrı Yapılan Komutun Olasılık Hesabı"
   ],
   "metadata": {
    "collapsed": false
   }
  },
  {
   "cell_type": "code",
   "execution_count": 5,
   "outputs": [
    {
     "name": "stdout",
     "output_type": "stream",
     "text": [
      "{'saat': Y                 saat\n",
      "1.2.3 isik False  0       0.023256\n",
      "                  1       0.023256\n",
      "                  3       0.093023\n",
      "                  4       0.023256\n",
      "                  5       0.023256\n",
      "                            ...   \n",
      "2.2.4 klima -1    19      0.060000\n",
      "                  20      0.010000\n",
      "                  21      0.060000\n",
      "                  22      0.030000\n",
      "                  23      0.070000\n",
      "Length: 179, dtype: float64, 'haftanin gunu': Y                 haftanin gunu\n",
      "1.2.3 isik False  1                0.069767\n",
      "                  2                0.255814\n",
      "                  3                0.139535\n",
      "                  4                0.186047\n",
      "                  5                0.093023\n",
      "                  6                0.139535\n",
      "                  7                0.116279\n",
      "1.2.3 isik True   1                0.192982\n",
      "                  2                0.122807\n",
      "                  3                0.087719\n",
      "                  4                0.157895\n",
      "                  5                0.122807\n",
      "                  6                0.087719\n",
      "                  7                0.228070\n",
      "1.5.3 isik False  1                0.110000\n",
      "                  2                0.130000\n",
      "                  3                0.170000\n",
      "                  4                0.140000\n",
      "                  5                0.180000\n",
      "                  6                0.130000\n",
      "                  7                0.140000\n",
      "1.5.3 isik True   1                0.150000\n",
      "                  2                0.090000\n",
      "                  3                0.120000\n",
      "                  4                0.240000\n",
      "                  5                0.060000\n",
      "                  6                0.200000\n",
      "                  7                0.140000\n",
      "2.2.3 klima 24    1                0.080000\n",
      "                  2                0.200000\n",
      "                  3                0.140000\n",
      "                  4                0.120000\n",
      "                  5                0.140000\n",
      "                  6                0.140000\n",
      "                  7                0.180000\n",
      "2.2.3 klima 25    1                0.180000\n",
      "                  2                0.160000\n",
      "                  3                0.200000\n",
      "                  4                0.080000\n",
      "                  5                0.100000\n",
      "                  6                0.160000\n",
      "                  7                0.120000\n",
      "2.2.4 klima +1    1                0.080000\n",
      "                  2                0.130000\n",
      "                  3                0.220000\n",
      "                  4                0.100000\n",
      "                  5                0.200000\n",
      "                  6                0.140000\n",
      "                  7                0.130000\n",
      "2.2.4 klima -1    1                0.170000\n",
      "                  2                0.170000\n",
      "                  3                0.170000\n",
      "                  4                0.100000\n",
      "                  5                0.170000\n",
      "                  6                0.110000\n",
      "                  7                0.110000\n",
      "dtype: float64, 'haftaici / sonu': Y                 haftaici / sonu\n",
      "1.2.3 isik False  0                  0.744186\n",
      "                  1                  0.255814\n",
      "1.2.3 isik True   0                  0.684211\n",
      "                  1                  0.315789\n",
      "1.5.3 isik False  0                  0.730000\n",
      "                  1                  0.270000\n",
      "1.5.3 isik True   0                  0.660000\n",
      "                  1                  0.340000\n",
      "2.2.3 klima 24    0                  0.680000\n",
      "                  1                  0.320000\n",
      "2.2.3 klima 25    0                  0.720000\n",
      "                  1                  0.280000\n",
      "2.2.4 klima +1    0                  0.730000\n",
      "                  1                  0.270000\n",
      "2.2.4 klima -1    0                  0.780000\n",
      "                  1                  0.220000\n",
      "dtype: float64, 'ay': Y                 ay\n",
      "1.2.3 isik False  1     1.0\n",
      "1.2.3 isik True   1     1.0\n",
      "1.5.3 isik False  1     1.0\n",
      "1.5.3 isik True   1     1.0\n",
      "2.2.3 klima 24    1     1.0\n",
      "2.2.3 klima 25    1     1.0\n",
      "2.2.4 klima +1    1     1.0\n",
      "2.2.4 klima -1    1     1.0\n",
      "dtype: float64, 'mevsim': Y                 mevsim\n",
      "1.2.3 isik False  4         1.0\n",
      "1.2.3 isik True   4         1.0\n",
      "1.5.3 isik False  4         1.0\n",
      "1.5.3 isik True   4         1.0\n",
      "2.2.3 klima 24    4         1.0\n",
      "2.2.3 klima 25    4         1.0\n",
      "2.2.4 klima +1    4         1.0\n",
      "2.2.4 klima -1    4         1.0\n",
      "dtype: float64}\n",
      "0.020000000000000004\n"
     ]
    }
   ],
   "source": [
    "likelihood = {}\n",
    "likelihood['saat'] = data.groupby(['Y', 'saat']).size().div(len(data)).div(prior)\n",
    "likelihood['haftanin gunu'] = data.groupby(['Y', 'haftanin gunu']).size().div(len(data)).div(prior)\n",
    "likelihood['haftaici / sonu'] = data.groupby(['Y', 'haftaici / sonu']).size().div(len(data)).div(prior)\n",
    "likelihood['ay'] = data.groupby(['Y', 'ay']).size().div(len(data)).div(prior)\n",
    "likelihood['mevsim'] = data.groupby(['Y', 'mevsim']).size().div(len(data)).div(prior)\n",
    "\n",
    "likelihood['saat'].unstack(fill_value=0).stack()\n",
    "likelihood['haftanin gunu'].unstack(fill_value=0).stack()\n",
    "likelihood['haftaici / sonu'].unstack(fill_value=0).stack()\n",
    "likelihood['ay'].unstack(fill_value=0).stack()\n",
    "likelihood['mevsim'].unstack(fill_value=0).stack()\n",
    "\n",
    "\n",
    "print(likelihood)\n",
    "print(likelihood['saat']['2.2.3 klima 25'][1])"
   ],
   "metadata": {
    "collapsed": false,
    "ExecuteTime": {
     "end_time": "2023-06-16T14:21:55.933424Z",
     "start_time": "2023-06-16T14:21:55.872186Z"
    }
   }
  },
  {
   "cell_type": "markdown",
   "source": [
    "Saat:8, Haftanın Günü:1, Haftaiçi/sonu:0, Ay:1, Mevsim:4 Değerine Göre Her Komutun Olasılık Hesaplaması"
   ],
   "metadata": {
    "collapsed": false
   }
  },
  {
   "cell_type": "code",
   "execution_count": null,
   "outputs": [],
   "source": [
    "p_123isikfalse = likelihood['saat']['1.2.3 isik False'][8] * likelihood['haftanin gunu']['1.2.3 isik False'][1] * \\\n",
    "                 likelihood['haftaici / sonu']['1.2.3 isik False'][0] * likelihood['ay']['1.2.3 isik False'][1] * \\\n",
    "                 likelihood['mevsim']['1.2.3 isik False'][4] * prior['1.2.3 isik False']\n",
    "\n",
    "p_123isiktrue = likelihood['saat']['1.2.3 isik True'][8] * likelihood['haftanin gunu']['1.2.3 isik True'][1] * \\\n",
    "                likelihood['haftaici / sonu']['1.2.3 isik True'][0] * likelihood['ay']['1.2.3 isik True'][1] * \\\n",
    "                likelihood['mevsim']['1.2.3 isik True'][4] * prior['1.2.3 isik True']\n",
    "\n",
    "p_153isiktrue = likelihood['saat']['1.5.3 isik True'][8] * likelihood['haftanin gunu']['1.5.3 isik True'][1] * \\\n",
    "                likelihood['haftaici / sonu']['1.5.3 isik True'][0] * likelihood['ay']['1.5.3 isik True'][1] * \\\n",
    "                likelihood['mevsim']['1.5.3 isik True'][4] * prior['1.5.3 isik True']\n",
    "\n",
    "p_153isikfalse = likelihood['saat']['1.5.3 isik False'][8] * likelihood['haftanin gunu']['1.5.3 isik False'][1] * \\\n",
    "                 likelihood['haftaici / sonu']['1.5.3 isik False'][0] * likelihood['ay']['1.5.3 isik False'][1] * \\\n",
    "                 likelihood['mevsim']['1.5.3 isik False'][4] * prior['1.5.3 isik False']\n",
    "\n",
    "p_223klima24 = likelihood['saat']['2.2.3 klima 24'][8] * likelihood['haftanin gunu']['2.2.3 klima 24'][1] * \\\n",
    "               likelihood['haftaici / sonu']['2.2.3 klima 24'][0] * likelihood['ay']['2.2.3 klima 24'][1] * \\\n",
    "               likelihood['mevsim']['2.2.3 klima 24'][4] * prior['2.2.3 klima 24']\n",
    "\n",
    "#p_223klima25 = likelihood['saat']['2.2.3 klima 25'][8] * likelihood['haftanin gunu']['2.2.3 klima 25'][1] * \\\n",
    "#               likelihood['haftaici / sonu']['2.2.3 klima 25'][0] * likelihood['ay']['2.2.3 klima 25'][1] * \\\n",
    "#              likelihood['mevsim']['2.2.3 klima 25'][4] * prior['2.2.3 klima 25']\n",
    "\n",
    "p_224klimaarti = likelihood['saat']['2.2.4 klima +1'][8] * likelihood['haftanin gunu']['2.2.4 klima +1'][1] * \\\n",
    "                 likelihood['haftaici / sonu']['2.2.4 klima +1'][0] * likelihood['ay']['2.2.4 klima +1'][1] * \\\n",
    "                 likelihood['mevsim']['2.2.4 klima +1'][4] * prior['2.2.4 klima +1']\n",
    "\n",
    "p_224klimaeksi = likelihood['saat']['2.2.4 klima -1'][8] * likelihood['haftanin gunu']['2.2.4 klima -1'][1] * \\\n",
    "                 likelihood['haftaici / sonu']['2.2.4 klima -1'][0] * likelihood['ay']['2.2.4 klima -1'][1] * \\\n",
    "                 likelihood['mevsim']['2.2.4 klima -1'][4] * prior['2.2.4 klima -1']\n",
    "\n",
    "print(p_123isikfalse)\n",
    "print(p_123isiktrue)"
   ],
   "metadata": {
    "collapsed": false
   }
  },
  {
   "cell_type": "markdown",
   "source": [
    "Belirlenen Saatteki Komutların Olasılıkları\n",
    ">>>'2.2.3 klima 25' komutunun olasılığı o saatte 0 olduğu için zero probabilty error'u veriyor. Laplace Smoothing yöntemi kullanılarak bu error düzeltilebilir."
   ],
   "metadata": {
    "collapsed": false
   }
  },
  {
   "cell_type": "code",
   "execution_count": null,
   "outputs": [],
   "source": [
    "probabilities = {}\n",
    "probabilities['1.2.3 isik False'] = p_123isikfalse\n",
    "probabilities['1.2.3 isik True'] = p_123isiktrue\n",
    "probabilities['1.5.3 isik False'] = p_153isikfalse\n",
    "probabilities['1.5.3 isik True'] = p_153isiktrue\n",
    "probabilities['2.2.3 klima 24'] = p_223klima24\n",
    "#probabilities['2.2.3 klima 25'] = p_223klima25\n",
    "probabilities['2.2.4 klima +1'] = p_224klimaarti\n",
    "probabilities['2.2.4 klima -1'] = p_224klimaeksi\n",
    "\n",
    "probabilities_sorted = dict(sorted(probabilities.items(),key= lambda x:x[1], reverse=True))\n",
    "\n",
    "for key, value in probabilities_sorted.items():\n",
    "    print(key, ' : ', value)"
   ],
   "metadata": {
    "collapsed": false
   }
  }
 ],
 "metadata": {
  "kernelspec": {
   "display_name": "Python 3",
   "language": "python",
   "name": "python3"
  },
  "language_info": {
   "codemirror_mode": {
    "name": "ipython",
    "version": 2
   },
   "file_extension": ".py",
   "mimetype": "text/x-python",
   "name": "python",
   "nbconvert_exporter": "python",
   "pygments_lexer": "ipython2",
   "version": "2.7.6"
  }
 },
 "nbformat": 4,
 "nbformat_minor": 0
}
