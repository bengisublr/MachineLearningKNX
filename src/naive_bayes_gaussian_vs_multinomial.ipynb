{
 "cells": [
  {
   "cell_type": "markdown",
   "source": [
    "Gaussian ve Multinomial Naive Bayes\n",
    ">>> İki algoritmayı da test ederek modelimize en uygun Naive Bayes algoritmasının Gaussian Naive Bayes algoritması olduğunu gördük."
   ],
   "metadata": {
    "collapsed": false
   }
  },
  {
   "cell_type": "code",
   "execution_count": 169,
   "metadata": {
    "collapsed": true,
    "ExecuteTime": {
     "end_time": "2023-06-16T08:20:49.530108Z",
     "start_time": "2023-06-16T08:20:49.494089Z"
    }
   },
   "outputs": [],
   "source": [
    "import pandas as pd\n",
    "%matplotlib inline\n",
    "from sklearn.preprocessing import LabelEncoder\n",
    "from sklearn.metrics import classification_report\n",
    "from sklearn import metrics\n",
    "from sklearn.naive_bayes import GaussianNB\n",
    "from sklearn.naive_bayes import MultinomialNB\n",
    "import numpy as np\n",
    "from sklearn.model_selection import train_test_split\n",
    "import matplotlib.pyplot as plt"
   ]
  },
  {
   "cell_type": "code",
   "execution_count": 170,
   "outputs": [],
   "source": [
    "data = pd.read_csv(\"naive_.csv\")"
   ],
   "metadata": {
    "collapsed": false,
    "ExecuteTime": {
     "end_time": "2023-06-16T08:20:49.546515Z",
     "start_time": "2023-06-16T08:20:49.509699Z"
    }
   }
  },
  {
   "cell_type": "code",
   "execution_count": 171,
   "outputs": [],
   "source": [
    "X = data.drop(['Y'], axis='columns').values\n",
    "y = data['Y']\n",
    "\n",
    "X_train, X_test, y_train, y_test = train_test_split(X, y, test_size=0.2)\n",
    "#gnb = GaussianNB(priors=[0.0, 0.0,0.0,0.0,0.0,0.0,0.0,0.0,0.0,0.0,0.1,0.9])\n",
    "gnb = GaussianNB()\n",
    "mnb = MultinomialNB()\n",
    "\n",
    "gnb.fit(X_train, y_train)\n",
    "mnb.fit(X_train, y_train)\n",
    "\n",
    "gpred = gnb.predict(X_test)\n",
    "mpred = mnb.predict(X_test)\n"
   ],
   "metadata": {
    "collapsed": false,
    "ExecuteTime": {
     "end_time": "2023-06-16T08:20:49.564089Z",
     "start_time": "2023-06-16T08:20:49.540452Z"
    }
   }
  },
  {
   "cell_type": "code",
   "execution_count": 172,
   "outputs": [
    {
     "name": "stdout",
     "output_type": "stream",
     "text": [
      "Accuracy of gaussian: 0.8857142857142857\n",
      "Accuracy of multinomial: 0.5214285714285715\n"
     ]
    }
   ],
   "source": [
    "print(\"Accuracy of gaussian:\", metrics.accuracy_score(y_test, gpred))\n",
    "print(\"Accuracy of multinomial:\", metrics.accuracy_score(y_test, mpred))"
   ],
   "metadata": {
    "collapsed": false,
    "ExecuteTime": {
     "end_time": "2023-06-16T08:20:49.672127Z",
     "start_time": "2023-06-16T08:20:49.567284Z"
    }
   }
  },
  {
   "cell_type": "code",
   "execution_count": 173,
   "outputs": [
    {
     "name": "stdout",
     "output_type": "stream",
     "text": [
      "multinomial :                   precision    recall  f1-score   support\n",
      "\n",
      "1.2.3 isik False       0.71      0.45      0.56        11\n",
      " 1.2.3 isik True       0.40      0.29      0.33         7\n",
      "1.5.3 isik False       0.50      0.60      0.55        10\n",
      " 1.5.3 isik True       1.00      0.54      0.70        13\n",
      "  2.2.3 klima 24       1.00      0.92      0.96        12\n",
      "  2.2.3 klima 25       0.71      1.00      0.83         5\n",
      "  2.2.4 klima +1       0.00      0.00      0.00        13\n",
      "  2.2.4 klima -1       1.00      0.64      0.78        11\n",
      "2.5.6 isik False       0.00      0.00      0.00        10\n",
      " 2.5.6 isik True       0.71      1.00      0.83        10\n",
      "  5.3.1 klima 12       0.24      1.00      0.38         8\n",
      "  5.3.1 klima 13       0.00      0.00      0.00        13\n",
      "6.3.2 isik False       0.43      0.50      0.46         6\n",
      " 6.3.2 isik True       0.43      0.82      0.56        11\n",
      "\n",
      "        accuracy                           0.52       140\n",
      "       macro avg       0.51      0.55      0.50       140\n",
      "    weighted avg       0.51      0.52      0.48       140\n",
      "\n",
      "gaussian :                    precision    recall  f1-score   support\n",
      "\n",
      "1.2.3 isik False       0.71      0.45      0.56        11\n",
      " 1.2.3 isik True       0.40      0.29      0.33         7\n",
      "1.5.3 isik False       1.00      1.00      1.00        10\n",
      " 1.5.3 isik True       1.00      1.00      1.00        13\n",
      "  2.2.3 klima 24       1.00      1.00      1.00        12\n",
      "  2.2.3 klima 25       0.83      1.00      0.91         5\n",
      "  2.2.4 klima +1       1.00      1.00      1.00        13\n",
      "  2.2.4 klima -1       1.00      1.00      1.00        11\n",
      "2.5.6 isik False       1.00      1.00      1.00        10\n",
      " 2.5.6 isik True       1.00      1.00      1.00        10\n",
      "  5.3.1 klima 12       1.00      1.00      1.00         8\n",
      "  5.3.1 klima 13       1.00      1.00      1.00        13\n",
      "6.3.2 isik False       0.43      0.50      0.46         6\n",
      " 6.3.2 isik True       0.60      0.82      0.69        11\n",
      "\n",
      "        accuracy                           0.89       140\n",
      "       macro avg       0.86      0.86      0.85       140\n",
      "    weighted avg       0.89      0.89      0.88       140\n",
      "\n"
     ]
    },
    {
     "name": "stderr",
     "output_type": "stream",
     "text": [
      "/Users/bengisubulur/anaconda3/lib/python3.10/site-packages/sklearn/metrics/_classification.py:1344: UndefinedMetricWarning: Precision and F-score are ill-defined and being set to 0.0 in labels with no predicted samples. Use `zero_division` parameter to control this behavior.\n",
      "  _warn_prf(average, modifier, msg_start, len(result))\n",
      "/Users/bengisubulur/anaconda3/lib/python3.10/site-packages/sklearn/metrics/_classification.py:1344: UndefinedMetricWarning: Precision and F-score are ill-defined and being set to 0.0 in labels with no predicted samples. Use `zero_division` parameter to control this behavior.\n",
      "  _warn_prf(average, modifier, msg_start, len(result))\n",
      "/Users/bengisubulur/anaconda3/lib/python3.10/site-packages/sklearn/metrics/_classification.py:1344: UndefinedMetricWarning: Precision and F-score are ill-defined and being set to 0.0 in labels with no predicted samples. Use `zero_division` parameter to control this behavior.\n",
      "  _warn_prf(average, modifier, msg_start, len(result))\n"
     ]
    }
   ],
   "source": [
    "\n",
    "print(\"multinomial :\", classification_report(y_test, mpred))\n",
    "\n",
    "print(\"gaussian : \", classification_report(y_test, gpred))\n"
   ],
   "metadata": {
    "collapsed": false,
    "ExecuteTime": {
     "end_time": "2023-06-16T08:20:49.713421Z",
     "start_time": "2023-06-16T08:20:49.595331Z"
    }
   }
  },
  {
   "cell_type": "code",
   "execution_count": 174,
   "outputs": [
    {
     "name": "stdout",
     "output_type": "stream",
     "text": [
      "['1.2.3 isik True']\n"
     ]
    }
   ],
   "source": [
    "print(gnb.predict([[4,1,0,1,4]]))"
   ],
   "metadata": {
    "collapsed": false,
    "ExecuteTime": {
     "end_time": "2023-06-16T08:20:49.750537Z",
     "start_time": "2023-06-16T08:20:49.689374Z"
    }
   }
  }
 ],
 "metadata": {
  "kernelspec": {
   "display_name": "Python 3",
   "language": "python",
   "name": "python3"
  },
  "language_info": {
   "codemirror_mode": {
    "name": "ipython",
    "version": 2
   },
   "file_extension": ".py",
   "mimetype": "text/x-python",
   "name": "python",
   "nbconvert_exporter": "python",
   "pygments_lexer": "ipython2",
   "version": "2.7.6"
  }
 },
 "nbformat": 4,
 "nbformat_minor": 0
}
