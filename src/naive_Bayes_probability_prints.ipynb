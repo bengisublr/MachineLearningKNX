{
 "cells": [
  {
   "cell_type": "code",
   "execution_count": 4,
   "metadata": {
    "collapsed": true,
    "ExecuteTime": {
     "end_time": "2023-06-08T13:57:51.025258Z",
     "start_time": "2023-06-08T13:57:50.987170Z"
    }
   },
   "outputs": [
    {
     "name": "stdout",
     "output_type": "stream",
     "text": [
      "Predicted Suggestion: Suggestion1\n",
      "All Suggestions with Probabilities: [('Suggestion1', 1.0), ('Suggestion11', 0.0), ('Suggestion2', 0.0), ('Suggestion3', 0.0), ('Suggestion4', 0.0)]\n"
     ]
    }
   ],
   "source": [
    "from sklearn.naive_bayes import GaussianNB\n",
    "import numpy as np\n",
    "\n",
    "# Sample dataset\n",
    "X = np.array([[1, 18], [1, 18], [1, 18], [1, 21], [1, 21], [2, 9], [3, 14], [4, 20]])  # Days of the week (1-7) and hours (0-23)\n",
    "y = np.array(['Suggestion1','Suggestion1','Suggestion1','Suggestion1', 'Suggestion11', 'Suggestion2', 'Suggestion3', 'Suggestion4'])  # Control suggestions\n",
    "\n",
    "# Initialize the Naive Bayes model\n",
    "nb_model = GaussianNB()\n",
    "\n",
    "# Train the model\n",
    "nb_model.fit(X, y)\n",
    "\n",
    "# Function to predict control suggestions and probabilities based on day and hour\n",
    "def predict_control_suggestions(day, hour):\n",
    "    query_instance = np.array([[day, hour]])\n",
    "    predicted_suggestion_ = nb_model.predict(query_instance)[0]\n",
    "    probabilities = nb_model.predict_proba(query_instance)[0]\n",
    "    suggestions_with_probabilities = list(zip(nb_model.classes_, probabilities))\n",
    "    return predicted_suggestion_, suggestions_with_probabilities\n",
    "\n",
    "# Example usage\n",
    "given_day = 1\n",
    "given_hour = 22\n",
    "\n",
    "predicted_suggestion, control_suggestions = predict_control_suggestions(given_day, given_hour)\n",
    "\n",
    "print(\"Predicted Suggestion:\", predicted_suggestion)\n",
    "print(\"All Suggestions with Probabilities:\", control_suggestions)"
   ]
  }
 ],
 "metadata": {
  "kernelspec": {
   "display_name": "Python 3",
   "language": "python",
   "name": "python3"
  },
  "language_info": {
   "codemirror_mode": {
    "name": "ipython",
    "version": 2
   },
   "file_extension": ".py",
   "mimetype": "text/x-python",
   "name": "python",
   "nbconvert_exporter": "python",
   "pygments_lexer": "ipython2",
   "version": "2.7.6"
  }
 },
 "nbformat": 4,
 "nbformat_minor": 0
}
